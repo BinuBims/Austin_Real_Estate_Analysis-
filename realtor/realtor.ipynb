{
 "cells": [
  {
   "cell_type": "code",
   "execution_count": 1,
   "metadata": {},
   "outputs": [],
   "source": [
    "from bs4 import BeautifulSoup as bs\n",
    "import requests\n",
    "import pymongo\n",
    "import time\n",
    "import random\n",
    "from splinter import Browser\n",
    "from selenium import webdriver\n",
    "from selenium.webdriver.common.keys import Keys"
   ]
  },
  {
   "cell_type": "code",
   "execution_count": 2,
   "metadata": {},
   "outputs": [],
   "source": [
    "executable_path = {'executable_path':'/usr/local/bin/chromedriver'}"
   ]
  },
  {
   "cell_type": "code",
   "execution_count": 3,
   "metadata": {},
   "outputs": [],
   "source": [
    "browser = Browser('chrome', **executable_path, headless= False)"
   ]
  },
  {
   "cell_type": "code",
   "execution_count": 4,
   "metadata": {},
   "outputs": [],
   "source": [
    "client = pymongo.MongoClient()\n",
    "db = client.realtor\n",
    "pages = db.main_pages"
   ]
  },
  {
   "cell_type": "code",
   "execution_count": 5,
   "metadata": {},
   "outputs": [],
   "source": [
    "realtor_url = \"https://www.realtor.com/realestateandhomes-search/Austin_TX/pg-\""
   ]
  },
  {
   "cell_type": "code",
   "execution_count": 6,
   "metadata": {},
   "outputs": [],
   "source": [
    "browser.visit(realtor_url)"
   ]
  },
  {
   "cell_type": "code",
   "execution_count": 25,
   "metadata": {},
   "outputs": [],
   "source": [
    "html = browser.html\n",
    "soup = bs(html,'html.parser')\n",
    "pag = soup.find_all(class_=\"pagination\")\n",
    "lst_num = pag[0].get_text(strip=True)[-2:]"
   ]
  },
  {
   "cell_type": "code",
   "execution_count": 11,
   "metadata": {},
   "outputs": [
    {
     "data": {
      "text/plain": [
       "83"
      ]
     },
     "execution_count": 11,
     "metadata": {},
     "output_type": "execute_result"
    }
   ],
   "source": [
    "int(lst_num)"
   ]
  },
  {
   "cell_type": "code",
   "execution_count": 22,
   "metadata": {},
   "outputs": [
    {
     "name": "stdout",
     "output_type": "stream",
     "text": [
      "Page 1 of 83\n",
      "Page 2 of 83\n",
      "Page 3 of 83\n",
      "Page 4 of 83\n",
      "Page 5 of 83\n",
      "Page 6 of 83\n",
      "Page 7 of 83\n",
      "Page 8 of 83\n",
      "Page 9 of 83\n",
      "Page 10 of 83\n",
      "Page 11 of 83\n",
      "Page 12 of 83\n",
      "Page 13 of 83\n",
      "Page 14 of 83\n",
      "Page 15 of 83\n",
      "Page 16 of 83\n",
      "Page 17 of 83\n",
      "Page 18 of 83\n",
      "Page 19 of 83\n",
      "Page 20 of 83\n",
      "Page 21 of 83\n",
      "Page 22 of 83\n",
      "Page 23 of 83\n",
      "Page 24 of 83\n",
      "Page 25 of 83\n",
      "Page 26 of 83\n",
      "Page 27 of 83\n",
      "Page 28 of 83\n",
      "Page 29 of 83\n",
      "Page 30 of 83\n",
      "Page 31 of 83\n",
      "Page 32 of 83\n",
      "Page 33 of 83\n",
      "Page 34 of 83\n",
      "Page 35 of 83\n",
      "Page 36 of 83\n",
      "Page 37 of 83\n",
      "Page 38 of 83\n",
      "Page 39 of 83\n",
      "Page 40 of 83\n",
      "Page 41 of 83\n",
      "Page 42 of 83\n",
      "Page 43 of 83\n",
      "Page 44 of 83\n",
      "Page 45 of 83\n",
      "Page 46 of 83\n",
      "Page 47 of 83\n",
      "Page 48 of 83\n",
      "Page 49 of 83\n",
      "Page 50 of 83\n",
      "Page 51 of 83\n",
      "Page 52 of 83\n",
      "Page 53 of 83\n",
      "Page 54 of 83\n",
      "Page 55 of 83\n",
      "Page 56 of 83\n",
      "Page 57 of 83\n",
      "Page 58 of 83\n",
      "Page 59 of 83\n",
      "Page 60 of 83\n",
      "Page 61 of 83\n",
      "Page 62 of 83\n",
      "Page 63 of 83\n",
      "Page 64 of 83\n",
      "Page 65 of 83\n",
      "Page 66 of 83\n",
      "Page 67 of 83\n",
      "Page 68 of 83\n",
      "Page 69 of 83\n",
      "Page 70 of 83\n",
      "Page 71 of 83\n",
      "Page 72 of 83\n",
      "Page 73 of 83\n",
      "Page 74 of 83\n",
      "Page 75 of 83\n",
      "Page 76 of 83\n",
      "Page 77 of 83\n",
      "Page 78 of 83\n",
      "Page 79 of 83\n",
      "Page 80 of 83\n",
      "Page 81 of 83\n",
      "Page 82 of 83\n",
      "Page 83 of 83\n"
     ]
    }
   ],
   "source": [
    "for x in range(1,int(lst_num)+1):\n",
    "    response = browser.visit(realtor_url + str(x))\n",
    "    \n",
    "    html = browser.html\n",
    "    soup = bs(html,'html.parser')\n",
    "    pages.insert_one({'html': html, 'time_scraped': time.ctime()})    \n",
    "    print('Page {} of {}'.format(x,lst_num))\n",
    "    time.sleep(random.randint(6,31))"
   ]
  },
  {
   "cell_type": "code",
   "execution_count": 23,
   "metadata": {},
   "outputs": [],
   "source": [
    "browser.quit()"
   ]
  },
  {
   "cell_type": "code",
   "execution_count": null,
   "metadata": {},
   "outputs": [],
   "source": []
  }
 ],
 "metadata": {
  "kernelspec": {
   "display_name": "Python 3",
   "language": "python",
   "name": "python3"
  },
  "language_info": {
   "codemirror_mode": {
    "name": "ipython",
    "version": 3
   },
   "file_extension": ".py",
   "mimetype": "text/x-python",
   "name": "python",
   "nbconvert_exporter": "python",
   "pygments_lexer": "ipython3",
   "version": "3.7.4"
  }
 },
 "nbformat": 4,
 "nbformat_minor": 2
}
