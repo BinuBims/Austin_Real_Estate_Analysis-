{
 "cells": [
  {
   "cell_type": "code",
   "execution_count": 1,
   "metadata": {},
   "outputs": [],
   "source": [
    "%matplotlib inline"
   ]
  },
  {
   "cell_type": "code",
   "execution_count": 2,
   "metadata": {},
   "outputs": [],
   "source": [
    "import pandas as pd\n",
    "import numpy as np\n",
    "import matplotlib.pyplot as plt\n",
    "import seaborn as sns\n",
    "import pymongo"
   ]
  },
  {
   "cell_type": "code",
   "execution_count": 3,
   "metadata": {},
   "outputs": [],
   "source": [
    "client = pymongo.MongoClient()"
   ]
  },
  {
   "cell_type": "code",
   "execution_count": 4,
   "metadata": {},
   "outputs": [],
   "source": [
    "aus_realty_db = client.realtyaus\n",
    "collection = aus_realty_db.aus_realty_data"
   ]
  },
  {
   "cell_type": "code",
   "execution_count": 5,
   "metadata": {},
   "outputs": [],
   "source": [
    "aus_realty_df = pd.DataFrame(list(collection.find()))"
   ]
  },
  {
   "cell_type": "code",
   "execution_count": 6,
   "metadata": {},
   "outputs": [
    {
     "data": {
      "text/html": [
       "<div>\n",
       "<style scoped>\n",
       "    .dataframe tbody tr th:only-of-type {\n",
       "        vertical-align: middle;\n",
       "    }\n",
       "\n",
       "    .dataframe tbody tr th {\n",
       "        vertical-align: top;\n",
       "    }\n",
       "\n",
       "    .dataframe thead th {\n",
       "        text-align: right;\n",
       "    }\n",
       "</style>\n",
       "<table border=\"1\" class=\"dataframe\">\n",
       "  <thead>\n",
       "    <tr style=\"text-align: right;\">\n",
       "      <th></th>\n",
       "      <th>_id</th>\n",
       "      <th>subdiv</th>\n",
       "      <th>address</th>\n",
       "      <th>data_type</th>\n",
       "      <th>status</th>\n",
       "      <th>status_extra</th>\n",
       "      <th>photo</th>\n",
       "      <th>time</th>\n",
       "      <th>mls_id</th>\n",
       "      <th>city</th>\n",
       "      <th>state</th>\n",
       "      <th>baths</th>\n",
       "      <th>sq_ft</th>\n",
       "      <th>acres</th>\n",
       "      <th>beds</th>\n",
       "      <th>zip</th>\n",
       "      <th>cost</th>\n",
       "      <th>source</th>\n",
       "      <th>id</th>\n",
       "    </tr>\n",
       "  </thead>\n",
       "  <tbody>\n",
       "    <tr>\n",
       "      <td>0</td>\n",
       "      <td>5e112f17dbfd415408cf253e</td>\n",
       "      <td>Garden Villa Estates</td>\n",
       "      <td>3600 Villa Ct</td>\n",
       "      <td>Residential</td>\n",
       "      <td>Active</td>\n",
       "      <td></td>\n",
       "      <td>https://rew-feed-images.global.ssl.fastly.net/...</td>\n",
       "      <td>2019-12-21 17:20:13</td>\n",
       "      <td>6952847</td>\n",
       "      <td>Austin</td>\n",
       "      <td>TX</td>\n",
       "      <td>4.0</td>\n",
       "      <td>2326.0</td>\n",
       "      <td>0.13</td>\n",
       "      <td>4.0</td>\n",
       "      <td>78704</td>\n",
       "      <td>1059000.0</td>\n",
       "      <td>austin_realty</td>\n",
       "      <td>2019-12-21 17:20:13.006</td>\n",
       "    </tr>\n",
       "    <tr>\n",
       "      <td>1</td>\n",
       "      <td>5e112f17dbfd415408cf253f</td>\n",
       "      <td>Skyland Terrace</td>\n",
       "      <td>5405 Grover Ave</td>\n",
       "      <td>Residential</td>\n",
       "      <td>Active</td>\n",
       "      <td></td>\n",
       "      <td>https://rew-feed-images.global.ssl.fastly.net/...</td>\n",
       "      <td>2019-12-21 17:20:13</td>\n",
       "      <td>9195794</td>\n",
       "      <td>Austin</td>\n",
       "      <td>TX</td>\n",
       "      <td>3.0</td>\n",
       "      <td>2462.0</td>\n",
       "      <td>0.15</td>\n",
       "      <td>3.0</td>\n",
       "      <td>78756</td>\n",
       "      <td>825000.0</td>\n",
       "      <td>austin_realty</td>\n",
       "      <td>2019-12-21 17:20:13.009</td>\n",
       "    </tr>\n",
       "  </tbody>\n",
       "</table>\n",
       "</div>"
      ],
      "text/plain": [
       "                        _id                subdiv           address  \\\n",
       "0  5e112f17dbfd415408cf253e  Garden Villa Estates     3600 Villa Ct   \n",
       "1  5e112f17dbfd415408cf253f       Skyland Terrace   5405 Grover Ave   \n",
       "\n",
       "     data_type  status status_extra  \\\n",
       "0  Residential  Active                \n",
       "1  Residential  Active                \n",
       "\n",
       "                                               photo                time  \\\n",
       "0  https://rew-feed-images.global.ssl.fastly.net/... 2019-12-21 17:20:13   \n",
       "1  https://rew-feed-images.global.ssl.fastly.net/... 2019-12-21 17:20:13   \n",
       "\n",
       "    mls_id    city state  baths   sq_ft  acres  beds    zip       cost  \\\n",
       "0  6952847  Austin   TX     4.0  2326.0   0.13   4.0  78704  1059000.0   \n",
       "1  9195794  Austin   TX     3.0  2462.0   0.15   3.0  78756   825000.0   \n",
       "\n",
       "          source                      id  \n",
       "0  austin_realty 2019-12-21 17:20:13.006  \n",
       "1  austin_realty 2019-12-21 17:20:13.009  "
      ]
     },
     "execution_count": 6,
     "metadata": {},
     "output_type": "execute_result"
    }
   ],
   "source": [
    "aus_realty_df.head(2)"
   ]
  },
  {
   "cell_type": "code",
   "execution_count": 7,
   "metadata": {},
   "outputs": [],
   "source": [
    "aus_realty_df = aus_realty_df.drop_duplicates('mls_id')"
   ]
  },
  {
   "cell_type": "code",
   "execution_count": 8,
   "metadata": {},
   "outputs": [
    {
     "name": "stdout",
     "output_type": "stream",
     "text": [
      "<class 'pandas.core.frame.DataFrame'>\n",
      "Int64Index: 9436 entries, 0 to 9435\n",
      "Data columns (total 19 columns):\n",
      "_id             9436 non-null object\n",
      "subdiv          9436 non-null object\n",
      "address         9436 non-null object\n",
      "data_type       9436 non-null object\n",
      "status          9436 non-null object\n",
      "status_extra    9436 non-null object\n",
      "photo           9436 non-null object\n",
      "time            9436 non-null datetime64[ns]\n",
      "mls_id          9436 non-null int64\n",
      "city            9436 non-null object\n",
      "state           9436 non-null object\n",
      "baths           9431 non-null float64\n",
      "sq_ft           9432 non-null float64\n",
      "acres           7044 non-null float64\n",
      "beds            9424 non-null float64\n",
      "zip             9436 non-null object\n",
      "cost            9436 non-null float64\n",
      "source          9436 non-null object\n",
      "id              9436 non-null datetime64[ns]\n",
      "dtypes: datetime64[ns](2), float64(5), int64(1), object(11)\n",
      "memory usage: 1.4+ MB\n"
     ]
    }
   ],
   "source": [
    "aus_realty_df.info()"
   ]
  },
  {
   "cell_type": "code",
   "execution_count": 9,
   "metadata": {},
   "outputs": [
    {
     "name": "stdout",
     "output_type": "stream",
     "text": [
      "<class 'pandas.core.frame.DataFrame'>\n",
      "Int64Index: 2808 entries, 0 to 9433\n",
      "Data columns (total 19 columns):\n",
      "_id             2808 non-null object\n",
      "subdiv          2808 non-null object\n",
      "address         2808 non-null object\n",
      "data_type       2808 non-null object\n",
      "status          2808 non-null object\n",
      "status_extra    2808 non-null object\n",
      "photo           2808 non-null object\n",
      "time            2808 non-null datetime64[ns]\n",
      "mls_id          2808 non-null int64\n",
      "city            2808 non-null object\n",
      "state           2808 non-null object\n",
      "baths           2807 non-null float64\n",
      "sq_ft           2805 non-null float64\n",
      "acres           2237 non-null float64\n",
      "beds            2805 non-null float64\n",
      "zip             2808 non-null object\n",
      "cost            2808 non-null float64\n",
      "source          2808 non-null object\n",
      "id              2808 non-null datetime64[ns]\n",
      "dtypes: datetime64[ns](2), float64(5), int64(1), object(11)\n",
      "memory usage: 438.8+ KB\n"
     ]
    }
   ],
   "source": [
    "aus_df = aus_realty_df.query(\"city == 'Austin'\")\n",
    "aus_df.info()"
   ]
  },
  {
   "cell_type": "code",
   "execution_count": null,
   "metadata": {},
   "outputs": [],
   "source": [
    "def central_tend_by_zipcode(df, sort='count', asc=False):\n",
    "    grouped_zip = df.groupby('zip')\n",
    "    data = pd.DataFrame({'median':grouped_zip['cost'].median().apply(lambda x : \"{:,.2f}\".format(x)),\n",
    "                           'mean':grouped_zip['cost'].mean().apply(lambda x : \"{:,.2f}\".format(x)),\n",
    "                           'count':grouped_zip['cost'].count(),\n",
    "                            'mean_beds':grouped_zip['beds'].mean().apply(lambda x: \"{:1.0f}\".format(x)),\n",
    "                            'mean_baths':grouped_zip['baths'].mean().apply(lambda x: \"{:1.0f}\".format(x)),\n",
    "                            'mean_sqft':grouped_zip['sq_ft'].mean().apply(lambda x: \"{:,.0f}\".format(x))\n",
    "                           })\n",
    "    return data.sort_values(sort, ascending=asc)"
   ]
  },
  {
   "cell_type": "code",
   "execution_count": null,
   "metadata": {},
   "outputs": [],
   "source": [
    "central_tend_by_zipcode(aus_df, sort='zip', asc=True)"
   ]
  },
  {
   "cell_type": "code",
   "execution_count": null,
   "metadata": {},
   "outputs": [],
   "source": [
    "samp = aus_df[['address', 'city']].head()"
   ]
  },
  {
   "cell_type": "code",
   "execution_count": 11,
   "metadata": {},
   "outputs": [],
   "source": [
    "from config import gkey\n",
    "import requests"
   ]
  },
  {
   "cell_type": "code",
   "execution_count": null,
   "metadata": {},
   "outputs": [],
   "source": []
  },
  {
   "cell_type": "code",
   "execution_count": 13,
   "metadata": {},
   "outputs": [
    {
     "name": "stderr",
     "output_type": "stream",
     "text": [
      "/opt/anaconda3/lib/python3.7/site-packages/ipykernel_launcher.py:1: SettingWithCopyWarning: \n",
      "A value is trying to be set on a copy of a slice from a DataFrame.\n",
      "Try using .loc[row_indexer,col_indexer] = value instead\n",
      "\n",
      "See the caveats in the documentation: http://pandas.pydata.org/pandas-docs/stable/user_guide/indexing.html#returning-a-view-versus-a-copy\n",
      "  \"\"\"Entry point for launching an IPython kernel.\n"
     ]
    }
   ],
   "source": [
    "aus_df['addr'] = aus_df['address'] +', '+ aus_df['city']"
   ]
  },
  {
   "cell_type": "code",
   "execution_count": null,
   "metadata": {},
   "outputs": [],
   "source": [
    "aus_df"
   ]
  },
  {
   "cell_type": "code",
   "execution_count": 28,
   "metadata": {},
   "outputs": [
    {
     "name": "stdout",
     "output_type": "stream",
     "text": [
      "not working address:  7807 Ryans Way, Austin\n",
      "not working address:  7804 Ryans Way, Austin\n",
      "not working address:  7915 Ryans Way, Austin\n",
      "not working address:  7911 Ryans Way, Austin\n"
     ]
    }
   ],
   "source": [
    "# Google geocode to find lat, lng\n",
    "#my_address = \"3600 Villa Ct, Austin\"\n",
    "lt= []\n",
    "ln= []\n",
    "for address in endall['addr']:\n",
    "    try:\n",
    "        params = {\n",
    "            \"address\": address,\n",
    "            #\"key\": gkey}\n",
    "\n",
    "        base_url = \"https://maps.googleapis.com/maps/api/geocode/json\"\n",
    "\n",
    "\n",
    "        my_geo = requests.get(base_url, params).json()\n",
    "\n",
    "        lt.append(my_geo[\"results\"][0][\"geometry\"][\"location\"][\"lat\"])\n",
    "        ln.append(my_geo[\"results\"][0][\"geometry\"][\"location\"][\"lng\"])\n",
    "        \n",
    "    except:\n",
    "        lt.append('not valid address')\n",
    "        ln.append('not valid address')\n",
    "        print(f'not working address: {address}')\n",
    "        "
   ]
  },
  {
   "cell_type": "code",
   "execution_count": null,
   "metadata": {},
   "outputs": [],
   "source": [
    "len(lt)"
   ]
  },
  {
   "cell_type": "code",
   "execution_count": null,
   "metadata": {},
   "outputs": [],
   "source": [
    "len(ln)"
   ]
  },
  {
   "cell_type": "code",
   "execution_count": null,
   "metadata": {},
   "outputs": [],
   "source": [
    "frth500['lat'] = lt\n",
    "frth500['lon'] = ln"
   ]
  },
  {
   "cell_type": "code",
   "execution_count": null,
   "metadata": {},
   "outputs": [],
   "source": [
    "samp['addr']= samp['address'] +' ' + samp['city']"
   ]
  },
  {
   "cell_type": "code",
   "execution_count": null,
   "metadata": {},
   "outputs": [],
   "source": [
    "f400['lat']= lt\n",
    "f400['lon']= ln"
   ]
  },
  {
   "cell_type": "code",
   "execution_count": null,
   "metadata": {},
   "outputs": [],
   "source": [
    "f400 = aus_df[:400]"
   ]
  },
  {
   "cell_type": "code",
   "execution_count": null,
   "metadata": {},
   "outputs": [],
   "source": [
    "svth400.tail()"
   ]
  },
  {
   "cell_type": "code",
   "execution_count": 22,
   "metadata": {},
   "outputs": [],
   "source": [
    "endall = aus_df[2400:]"
   ]
  },
  {
   "cell_type": "code",
   "execution_count": 30,
   "metadata": {},
   "outputs": [],
   "source": [
    "endall.to_csv('data/endall.csv', index=False)"
   ]
  },
  {
   "cell_type": "code",
   "execution_count": 29,
   "metadata": {},
   "outputs": [
    {
     "name": "stderr",
     "output_type": "stream",
     "text": [
      "/opt/anaconda3/lib/python3.7/site-packages/ipykernel_launcher.py:1: SettingWithCopyWarning: \n",
      "A value is trying to be set on a copy of a slice from a DataFrame.\n",
      "Try using .loc[row_indexer,col_indexer] = value instead\n",
      "\n",
      "See the caveats in the documentation: http://pandas.pydata.org/pandas-docs/stable/user_guide/indexing.html#returning-a-view-versus-a-copy\n",
      "  \"\"\"Entry point for launching an IPython kernel.\n",
      "/opt/anaconda3/lib/python3.7/site-packages/ipykernel_launcher.py:2: SettingWithCopyWarning: \n",
      "A value is trying to be set on a copy of a slice from a DataFrame.\n",
      "Try using .loc[row_indexer,col_indexer] = value instead\n",
      "\n",
      "See the caveats in the documentation: http://pandas.pydata.org/pandas-docs/stable/user_guide/indexing.html#returning-a-view-versus-a-copy\n",
      "  \n"
     ]
    }
   ],
   "source": [
    "endall['lat']=lt\n",
    "endall['lon']=ln"
   ]
  },
  {
   "cell_type": "code",
   "execution_count": 18,
   "metadata": {},
   "outputs": [
    {
     "data": {
      "text/html": [
       "<div>\n",
       "<style scoped>\n",
       "    .dataframe tbody tr th:only-of-type {\n",
       "        vertical-align: middle;\n",
       "    }\n",
       "\n",
       "    .dataframe tbody tr th {\n",
       "        vertical-align: top;\n",
       "    }\n",
       "\n",
       "    .dataframe thead th {\n",
       "        text-align: right;\n",
       "    }\n",
       "</style>\n",
       "<table border=\"1\" class=\"dataframe\">\n",
       "  <thead>\n",
       "    <tr style=\"text-align: right;\">\n",
       "      <th></th>\n",
       "      <th>_id</th>\n",
       "      <th>subdiv</th>\n",
       "      <th>address</th>\n",
       "      <th>data_type</th>\n",
       "      <th>status</th>\n",
       "      <th>status_extra</th>\n",
       "      <th>photo</th>\n",
       "      <th>time</th>\n",
       "      <th>mls_id</th>\n",
       "      <th>city</th>\n",
       "      <th>...</th>\n",
       "      <th>sq_ft</th>\n",
       "      <th>acres</th>\n",
       "      <th>beds</th>\n",
       "      <th>zip</th>\n",
       "      <th>cost</th>\n",
       "      <th>source</th>\n",
       "      <th>id</th>\n",
       "      <th>addr</th>\n",
       "      <th>lat</th>\n",
       "      <th>lon</th>\n",
       "    </tr>\n",
       "  </thead>\n",
       "  <tbody>\n",
       "    <tr>\n",
       "      <td>7247</td>\n",
       "      <td>5e112f21dbfd415408cf418d</td>\n",
       "      <td>5200 Ave G Condo</td>\n",
       "      <td>5200 Avenue G  #A</td>\n",
       "      <td>Residential</td>\n",
       "      <td>Pending</td>\n",
       "      <td>Taking Backups</td>\n",
       "      <td>https://rew-feed-images.global.ssl.fastly.net/...</td>\n",
       "      <td>2019-12-21 17:20:30</td>\n",
       "      <td>1830771</td>\n",
       "      <td>Austin</td>\n",
       "      <td>...</td>\n",
       "      <td>1560.0</td>\n",
       "      <td>NaN</td>\n",
       "      <td>3.0</td>\n",
       "      <td>78751</td>\n",
       "      <td>695000.0</td>\n",
       "      <td>austin_realty</td>\n",
       "      <td>2019-12-21 17:20:30.001</td>\n",
       "      <td>5200 Avenue G  #A, Austin</td>\n",
       "      <td>30.316370</td>\n",
       "      <td>-97.721070</td>\n",
       "    </tr>\n",
       "    <tr>\n",
       "      <td>7250</td>\n",
       "      <td>5e112f21dbfd415408cf4190</td>\n",
       "      <td>Burnet Heights</td>\n",
       "      <td>1901 Romeria Dr</td>\n",
       "      <td>Residential</td>\n",
       "      <td>Pending</td>\n",
       "      <td>Taking Backups</td>\n",
       "      <td>https://rew-feed-images.global.ssl.fastly.net/...</td>\n",
       "      <td>2019-12-21 17:20:14</td>\n",
       "      <td>8956441</td>\n",
       "      <td>Austin</td>\n",
       "      <td>...</td>\n",
       "      <td>2636.0</td>\n",
       "      <td>0.21</td>\n",
       "      <td>4.0</td>\n",
       "      <td>78757</td>\n",
       "      <td>695000.0</td>\n",
       "      <td>austin_realty</td>\n",
       "      <td>2019-12-21 17:20:14.008</td>\n",
       "      <td>1901 Romeria Dr, Austin</td>\n",
       "      <td>30.335500</td>\n",
       "      <td>-97.735963</td>\n",
       "    </tr>\n",
       "    <tr>\n",
       "      <td>7251</td>\n",
       "      <td>5e112f21dbfd415408cf4191</td>\n",
       "      <td>Steiner Ranch, Beverly Ridge</td>\n",
       "      <td>12429 Beverly Villas Ct</td>\n",
       "      <td>Residential</td>\n",
       "      <td>Pending</td>\n",
       "      <td>Taking Backups</td>\n",
       "      <td>https://rew-feed-images.global.ssl.fastly.net/...</td>\n",
       "      <td>2019-12-21 17:20:15</td>\n",
       "      <td>3551473</td>\n",
       "      <td>Austin</td>\n",
       "      <td>...</td>\n",
       "      <td>3051.0</td>\n",
       "      <td>0.91</td>\n",
       "      <td>4.0</td>\n",
       "      <td>78732</td>\n",
       "      <td>695000.0</td>\n",
       "      <td>austin_realty</td>\n",
       "      <td>2019-12-21 17:20:15.003</td>\n",
       "      <td>12429 Beverly Villas Ct, Austin</td>\n",
       "      <td>30.371546</td>\n",
       "      <td>-97.891113</td>\n",
       "    </tr>\n",
       "    <tr>\n",
       "      <td>7252</td>\n",
       "      <td>5e112f21dbfd415408cf4192</td>\n",
       "      <td>Rocky Creek</td>\n",
       "      <td>8804 FLYCATCHER Ct</td>\n",
       "      <td>Residential</td>\n",
       "      <td>Pending</td>\n",
       "      <td>Taking Backups</td>\n",
       "      <td>https://rew-feed-images.global.ssl.fastly.net/...</td>\n",
       "      <td>2019-12-21 17:20:15</td>\n",
       "      <td>4227269</td>\n",
       "      <td>Austin</td>\n",
       "      <td>...</td>\n",
       "      <td>4058.0</td>\n",
       "      <td>0.24</td>\n",
       "      <td>5.0</td>\n",
       "      <td>78738</td>\n",
       "      <td>690000.0</td>\n",
       "      <td>austin_realty</td>\n",
       "      <td>2019-12-21 17:20:15.004</td>\n",
       "      <td>8804 FLYCATCHER Ct, Austin</td>\n",
       "      <td>30.286533</td>\n",
       "      <td>-98.028663</td>\n",
       "    </tr>\n",
       "    <tr>\n",
       "      <td>7254</td>\n",
       "      <td>5e112f21dbfd415408cf4194</td>\n",
       "      <td>Great Hills</td>\n",
       "      <td>7713 Yaupon Dr</td>\n",
       "      <td>Residential</td>\n",
       "      <td>Pending</td>\n",
       "      <td>Taking Backups</td>\n",
       "      <td>https://rew-feed-images.global.ssl.fastly.net/...</td>\n",
       "      <td>2019-12-21 17:20:17</td>\n",
       "      <td>9324627</td>\n",
       "      <td>Austin</td>\n",
       "      <td>...</td>\n",
       "      <td>3302.0</td>\n",
       "      <td>0.23</td>\n",
       "      <td>4.0</td>\n",
       "      <td>78759</td>\n",
       "      <td>685000.0</td>\n",
       "      <td>austin_realty</td>\n",
       "      <td>2019-12-21 17:20:17.009</td>\n",
       "      <td>7713 Yaupon Dr, Austin</td>\n",
       "      <td>30.417590</td>\n",
       "      <td>-97.779302</td>\n",
       "    </tr>\n",
       "  </tbody>\n",
       "</table>\n",
       "<p>5 rows × 22 columns</p>\n",
       "</div>"
      ],
      "text/plain": [
       "                           _id                        subdiv  \\\n",
       "7247  5e112f21dbfd415408cf418d              5200 Ave G Condo   \n",
       "7250  5e112f21dbfd415408cf4190                Burnet Heights   \n",
       "7251  5e112f21dbfd415408cf4191  Steiner Ranch, Beverly Ridge   \n",
       "7252  5e112f21dbfd415408cf4192                   Rocky Creek   \n",
       "7254  5e112f21dbfd415408cf4194                   Great Hills   \n",
       "\n",
       "                       address    data_type   status    status_extra  \\\n",
       "7247         5200 Avenue G  #A  Residential  Pending  Taking Backups   \n",
       "7250           1901 Romeria Dr  Residential  Pending  Taking Backups   \n",
       "7251   12429 Beverly Villas Ct  Residential  Pending  Taking Backups   \n",
       "7252        8804 FLYCATCHER Ct  Residential  Pending  Taking Backups   \n",
       "7254            7713 Yaupon Dr  Residential  Pending  Taking Backups   \n",
       "\n",
       "                                                  photo                time  \\\n",
       "7247  https://rew-feed-images.global.ssl.fastly.net/... 2019-12-21 17:20:30   \n",
       "7250  https://rew-feed-images.global.ssl.fastly.net/... 2019-12-21 17:20:14   \n",
       "7251  https://rew-feed-images.global.ssl.fastly.net/... 2019-12-21 17:20:15   \n",
       "7252  https://rew-feed-images.global.ssl.fastly.net/... 2019-12-21 17:20:15   \n",
       "7254  https://rew-feed-images.global.ssl.fastly.net/... 2019-12-21 17:20:17   \n",
       "\n",
       "       mls_id    city  ...   sq_ft  acres  beds    zip      cost  \\\n",
       "7247  1830771  Austin  ...  1560.0    NaN   3.0  78751  695000.0   \n",
       "7250  8956441  Austin  ...  2636.0   0.21   4.0  78757  695000.0   \n",
       "7251  3551473  Austin  ...  3051.0   0.91   4.0  78732  695000.0   \n",
       "7252  4227269  Austin  ...  4058.0   0.24   5.0  78738  690000.0   \n",
       "7254  9324627  Austin  ...  3302.0   0.23   4.0  78759  685000.0   \n",
       "\n",
       "             source                      id                              addr  \\\n",
       "7247  austin_realty 2019-12-21 17:20:30.001         5200 Avenue G  #A, Austin   \n",
       "7250  austin_realty 2019-12-21 17:20:14.008           1901 Romeria Dr, Austin   \n",
       "7251  austin_realty 2019-12-21 17:20:15.003   12429 Beverly Villas Ct, Austin   \n",
       "7252  austin_realty 2019-12-21 17:20:15.004        8804 FLYCATCHER Ct, Austin   \n",
       "7254  austin_realty 2019-12-21 17:20:17.009            7713 Yaupon Dr, Austin   \n",
       "\n",
       "            lat        lon  \n",
       "7247  30.316370 -97.721070  \n",
       "7250  30.335500 -97.735963  \n",
       "7251  30.371546 -97.891113  \n",
       "7252  30.286533 -98.028663  \n",
       "7254  30.417590 -97.779302  \n",
       "\n",
       "[5 rows x 22 columns]"
      ]
     },
     "execution_count": 18,
     "metadata": {},
     "output_type": "execute_result"
    }
   ],
   "source": [
    "sxth600.tail()"
   ]
  },
  {
   "cell_type": "code",
   "execution_count": null,
   "metadata": {
    "scrolled": true
   },
   "outputs": [],
   "source": [
    "sxth600.head()"
   ]
  },
  {
   "cell_type": "code",
   "execution_count": 24,
   "metadata": {},
   "outputs": [
    {
     "data": {
      "text/plain": [
       "408"
      ]
     },
     "execution_count": 24,
     "metadata": {},
     "output_type": "execute_result"
    }
   ],
   "source": [
    "len(endall)"
   ]
  },
  {
   "cell_type": "code",
   "execution_count": null,
   "metadata": {},
   "outputs": [],
   "source": [
    "f400\n",
    "nxt300\n",
    "thr400\n",
    "frth500\n",
    "sxth600\n",
    "svth400\n",
    "endall"
   ]
  },
  {
   "cell_type": "code",
   "execution_count": 32,
   "metadata": {},
   "outputs": [],
   "source": [
    "a=pd.read_csv('data/f400.csv')\n",
    "b=pd.read_csv('data/nxt300.csv')\n",
    "c=pd.read_csv('data/thr400.csv')\n",
    "d=pd.read_csv('data/frth500.csv')\n",
    "e=pd.read_csv('data/sxth600.csv')\n",
    "f=pd.read_csv('data/svth400.csv')\n",
    "g=pd.read_csv('data/endall.csv')\n",
    "\n"
   ]
  },
  {
   "cell_type": "code",
   "execution_count": 45,
   "metadata": {},
   "outputs": [],
   "source": [
    "alldata=w.append(g)"
   ]
  },
  {
   "cell_type": "code",
   "execution_count": 56,
   "metadata": {},
   "outputs": [],
   "source": [
    "clean_df = alldata[alldata['lat']!='not valid address']"
   ]
  },
  {
   "cell_type": "code",
   "execution_count": 59,
   "metadata": {},
   "outputs": [
    {
     "name": "stderr",
     "output_type": "stream",
     "text": [
      "/opt/anaconda3/lib/python3.7/site-packages/ipykernel_launcher.py:1: SettingWithCopyWarning: \n",
      "A value is trying to be set on a copy of a slice from a DataFrame.\n",
      "Try using .loc[row_indexer,col_indexer] = value instead\n",
      "\n",
      "See the caveats in the documentation: http://pandas.pydata.org/pandas-docs/stable/user_guide/indexing.html#returning-a-view-versus-a-copy\n",
      "  \"\"\"Entry point for launching an IPython kernel.\n"
     ]
    }
   ],
   "source": [
    "clean_df['lat'] =clean_df['lat'].astype('float')"
   ]
  },
  {
   "cell_type": "code",
   "execution_count": 60,
   "metadata": {},
   "outputs": [
    {
     "name": "stderr",
     "output_type": "stream",
     "text": [
      "/opt/anaconda3/lib/python3.7/site-packages/ipykernel_launcher.py:1: SettingWithCopyWarning: \n",
      "A value is trying to be set on a copy of a slice from a DataFrame.\n",
      "Try using .loc[row_indexer,col_indexer] = value instead\n",
      "\n",
      "See the caveats in the documentation: http://pandas.pydata.org/pandas-docs/stable/user_guide/indexing.html#returning-a-view-versus-a-copy\n",
      "  \"\"\"Entry point for launching an IPython kernel.\n"
     ]
    }
   ],
   "source": [
    "clean_df['lon'] =clean_df['lon'].astype('float')"
   ]
  },
  {
   "cell_type": "code",
   "execution_count": 61,
   "metadata": {},
   "outputs": [
    {
     "name": "stdout",
     "output_type": "stream",
     "text": [
      "<class 'pandas.core.frame.DataFrame'>\n",
      "Int64Index: 2799 entries, 0 to 407\n",
      "Data columns (total 22 columns):\n",
      "_id             2799 non-null object\n",
      "subdiv          2798 non-null object\n",
      "address         2799 non-null object\n",
      "data_type       2799 non-null object\n",
      "status          2799 non-null object\n",
      "status_extra    838 non-null object\n",
      "photo           2799 non-null object\n",
      "time            2799 non-null object\n",
      "mls_id          2799 non-null int64\n",
      "city            2799 non-null object\n",
      "state           2799 non-null object\n",
      "baths           2798 non-null float64\n",
      "sq_ft           2796 non-null float64\n",
      "acres           2231 non-null float64\n",
      "beds            2796 non-null float64\n",
      "zip             2799 non-null int64\n",
      "cost            2799 non-null float64\n",
      "source          2799 non-null object\n",
      "id              2799 non-null object\n",
      "addr            2799 non-null object\n",
      "lat             2799 non-null float64\n",
      "lon             2799 non-null float64\n",
      "dtypes: float64(7), int64(2), object(13)\n",
      "memory usage: 502.9+ KB\n"
     ]
    }
   ],
   "source": [
    "clean_df.info()"
   ]
  },
  {
   "cell_type": "code",
   "execution_count": 62,
   "metadata": {},
   "outputs": [],
   "source": [
    "collection = aus_realty_db.aus_realty_cleandf"
   ]
  },
  {
   "cell_type": "code",
   "execution_count": 63,
   "metadata": {},
   "outputs": [
    {
     "data": {
      "text/plain": [
       "0      None\n",
       "1      None\n",
       "2      None\n",
       "3      None\n",
       "4      None\n",
       "       ... \n",
       "403    None\n",
       "404    None\n",
       "405    None\n",
       "406    None\n",
       "407    None\n",
       "Length: 2799, dtype: object"
      ]
     },
     "execution_count": 63,
     "metadata": {},
     "output_type": "execute_result"
    }
   ],
   "source": [
    "def transform_data(row):\n",
    "    data = row.to_dict()\n",
    "    collection.insert_one(data)\n",
    "\n",
    "clean_df.apply(transform_data, axis=1)"
   ]
  },
  {
   "cell_type": "code",
   "execution_count": null,
   "metadata": {},
   "outputs": [],
   "source": []
  }
 ],
 "metadata": {
  "kernelspec": {
   "display_name": "Python 3",
   "language": "python",
   "name": "python3"
  },
  "language_info": {
   "codemirror_mode": {
    "name": "ipython",
    "version": 3
   },
   "file_extension": ".py",
   "mimetype": "text/x-python",
   "name": "python",
   "nbconvert_exporter": "python",
   "pygments_lexer": "ipython3",
   "version": "3.7.4"
  }
 },
 "nbformat": 4,
 "nbformat_minor": 2
}
