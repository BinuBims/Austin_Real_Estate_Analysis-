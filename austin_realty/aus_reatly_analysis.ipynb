{
 "cells": [
  {
   "cell_type": "code",
   "execution_count": 1,
   "metadata": {},
   "outputs": [],
   "source": [
    "import pandas as pd \n",
    "import numpy as np\n",
    "import re\n",
    "import psycopg2 as pg2\n",
    "import pymongo"
   ]
  },
  {
   "cell_type": "code",
   "execution_count": 2,
   "metadata": {},
   "outputs": [],
   "source": [
    "from aus_realty_clean import clean_df"
   ]
  },
  {
   "cell_type": "code",
   "execution_count": 3,
   "metadata": {},
   "outputs": [
    {
     "data": {
      "text/html": [
       "<div>\n",
       "<style scoped>\n",
       "    .dataframe tbody tr th:only-of-type {\n",
       "        vertical-align: middle;\n",
       "    }\n",
       "\n",
       "    .dataframe tbody tr th {\n",
       "        vertical-align: top;\n",
       "    }\n",
       "\n",
       "    .dataframe thead th {\n",
       "        text-align: right;\n",
       "    }\n",
       "</style>\n",
       "<table border=\"1\" class=\"dataframe\">\n",
       "  <thead>\n",
       "    <tr style=\"text-align: right;\">\n",
       "      <th></th>\n",
       "      <th>subdiv</th>\n",
       "      <th>data_type</th>\n",
       "      <th>status</th>\n",
       "      <th>status_extra</th>\n",
       "      <th>photo</th>\n",
       "      <th>time</th>\n",
       "      <th>mls_id</th>\n",
       "      <th>city</th>\n",
       "      <th>state</th>\n",
       "      <th>baths</th>\n",
       "      <th>sq_ft</th>\n",
       "      <th>acres</th>\n",
       "      <th>beds</th>\n",
       "      <th>zip</th>\n",
       "      <th>cost</th>\n",
       "      <th>source</th>\n",
       "      <th>id</th>\n",
       "    </tr>\n",
       "  </thead>\n",
       "  <tbody>\n",
       "    <tr>\n",
       "      <td>0</td>\n",
       "      <td>Garden Villa Estates</td>\n",
       "      <td>Residential</td>\n",
       "      <td>Active</td>\n",
       "      <td></td>\n",
       "      <td>https://rew-feed-images.global.ssl.fastly.net/...</td>\n",
       "      <td>2019-12-21 17:20:13</td>\n",
       "      <td>6952847</td>\n",
       "      <td>Austin</td>\n",
       "      <td>TX</td>\n",
       "      <td>4.0</td>\n",
       "      <td>2326.0</td>\n",
       "      <td>0.13</td>\n",
       "      <td>4.0</td>\n",
       "      <td>78704</td>\n",
       "      <td>1059000.0</td>\n",
       "      <td>austin_realty</td>\n",
       "      <td>2019-12-21 17:20:13.006952847</td>\n",
       "    </tr>\n",
       "    <tr>\n",
       "      <td>1</td>\n",
       "      <td>Skyland Terrace</td>\n",
       "      <td>Residential</td>\n",
       "      <td>Active</td>\n",
       "      <td></td>\n",
       "      <td>https://rew-feed-images.global.ssl.fastly.net/...</td>\n",
       "      <td>2019-12-21 17:20:13</td>\n",
       "      <td>9195794</td>\n",
       "      <td>Austin</td>\n",
       "      <td>TX</td>\n",
       "      <td>3.0</td>\n",
       "      <td>2462.0</td>\n",
       "      <td>0.15</td>\n",
       "      <td>3.0</td>\n",
       "      <td>78756</td>\n",
       "      <td>825000.0</td>\n",
       "      <td>austin_realty</td>\n",
       "      <td>2019-12-21 17:20:13.009195794</td>\n",
       "    </tr>\n",
       "    <tr>\n",
       "      <td>2</td>\n",
       "      <td>Sunset Canyon</td>\n",
       "      <td>Residential</td>\n",
       "      <td>Active</td>\n",
       "      <td></td>\n",
       "      <td>https://rew-feed-images.global.ssl.fastly.net/...</td>\n",
       "      <td>2019-12-21 17:20:14</td>\n",
       "      <td>9881295</td>\n",
       "      <td>Dripping Springs</td>\n",
       "      <td>TX</td>\n",
       "      <td>5.0</td>\n",
       "      <td>3892.0</td>\n",
       "      <td>1.25</td>\n",
       "      <td>4.0</td>\n",
       "      <td>78620</td>\n",
       "      <td>675000.0</td>\n",
       "      <td>austin_realty</td>\n",
       "      <td>2019-12-21 17:20:14.009881295</td>\n",
       "    </tr>\n",
       "    <tr>\n",
       "      <td>3</td>\n",
       "      <td>Saratoga Hills</td>\n",
       "      <td>Residential</td>\n",
       "      <td>Active</td>\n",
       "      <td></td>\n",
       "      <td>https://rew-feed-images.global.ssl.fastly.net/...</td>\n",
       "      <td>2019-12-21 17:20:15</td>\n",
       "      <td>1485714</td>\n",
       "      <td>Austin</td>\n",
       "      <td>TX</td>\n",
       "      <td>4.0</td>\n",
       "      <td>3030.0</td>\n",
       "      <td>1.55</td>\n",
       "      <td>4.0</td>\n",
       "      <td>78737</td>\n",
       "      <td>649632.0</td>\n",
       "      <td>austin_realty</td>\n",
       "      <td>2019-12-21 17:20:15.001485714</td>\n",
       "    </tr>\n",
       "    <tr>\n",
       "      <td>4</td>\n",
       "      <td>Ruby Ranch</td>\n",
       "      <td>Residential</td>\n",
       "      <td>Active</td>\n",
       "      <td></td>\n",
       "      <td>https://rew-feed-images.global.ssl.fastly.net/...</td>\n",
       "      <td>2019-12-21 17:20:15</td>\n",
       "      <td>3356349</td>\n",
       "      <td>Buda</td>\n",
       "      <td>TX</td>\n",
       "      <td>2.0</td>\n",
       "      <td>2548.0</td>\n",
       "      <td>1.23</td>\n",
       "      <td>4.0</td>\n",
       "      <td>78610</td>\n",
       "      <td>499000.0</td>\n",
       "      <td>austin_realty</td>\n",
       "      <td>2019-12-21 17:20:15.003356349</td>\n",
       "    </tr>\n",
       "  </tbody>\n",
       "</table>\n",
       "</div>"
      ],
      "text/plain": [
       "                 subdiv    data_type  status status_extra  \\\n",
       "0  Garden Villa Estates  Residential  Active                \n",
       "1       Skyland Terrace  Residential  Active                \n",
       "2         Sunset Canyon  Residential  Active                \n",
       "3        Saratoga Hills  Residential  Active                \n",
       "4            Ruby Ranch  Residential  Active                \n",
       "\n",
       "                                               photo                time  \\\n",
       "0  https://rew-feed-images.global.ssl.fastly.net/... 2019-12-21 17:20:13   \n",
       "1  https://rew-feed-images.global.ssl.fastly.net/... 2019-12-21 17:20:13   \n",
       "2  https://rew-feed-images.global.ssl.fastly.net/... 2019-12-21 17:20:14   \n",
       "3  https://rew-feed-images.global.ssl.fastly.net/... 2019-12-21 17:20:15   \n",
       "4  https://rew-feed-images.global.ssl.fastly.net/... 2019-12-21 17:20:15   \n",
       "\n",
       "    mls_id              city state  baths   sq_ft  acres  beds    zip  \\\n",
       "0  6952847            Austin   TX     4.0  2326.0   0.13   4.0  78704   \n",
       "1  9195794            Austin   TX     3.0  2462.0   0.15   3.0  78756   \n",
       "2  9881295  Dripping Springs   TX     5.0  3892.0   1.25   4.0  78620   \n",
       "3  1485714            Austin   TX     4.0  3030.0   1.55   4.0  78737   \n",
       "4  3356349              Buda   TX     2.0  2548.0   1.23   4.0  78610   \n",
       "\n",
       "        cost         source                            id  \n",
       "0  1059000.0  austin_realty 2019-12-21 17:20:13.006952847  \n",
       "1   825000.0  austin_realty 2019-12-21 17:20:13.009195794  \n",
       "2   675000.0  austin_realty 2019-12-21 17:20:14.009881295  \n",
       "3   649632.0  austin_realty 2019-12-21 17:20:15.001485714  \n",
       "4   499000.0  austin_realty 2019-12-21 17:20:15.003356349  "
      ]
     },
     "execution_count": 3,
     "metadata": {},
     "output_type": "execute_result"
    }
   ],
   "source": [
    "clean_df.head()"
   ]
  },
  {
   "cell_type": "code",
   "execution_count": null,
   "metadata": {},
   "outputs": [],
   "source": [
    "table = '''\n",
    "    CREATE TABLE IF NOT EXISTS austin_realty (\n",
    "    id INT PRIMARY KEY NOT NULL,\n",
    "    subdiv VARCHAR(30), \n",
    "    data_type VARCHAR(20), \n",
    "    status VARCHAR(20),\n",
    "    status_extra VARCHAR(15),\n",
    "    photo VARCHAR(255),\n",
    "    time TIMESTAMP,\n",
    "    mls_id integer,\n",
    "    city VARCHAR(50),\n",
    "    state VARCHAR(15),\n",
    "    baths SMALLINT,\n",
    "    sq_ft NUMERIC,\n",
    "    acres NUMERIC,\n",
    "    beds NUMERIC,\n",
    "    zip INTEGER,\n",
    "    cost INTEGER);'''"
   ]
  },
  {
   "cell_type": "code",
   "execution_count": null,
   "metadata": {},
   "outputs": [],
   "source": [
    "for item in clean_aus_df:\n",
    "    cur.execute(postgres_insert_query, item)\n",
    "    conn.commit()"
   ]
  },
  {
   "cell_type": "code",
   "execution_count": null,
   "metadata": {},
   "outputs": [],
   "source": [
    "cur = conn.cursor()"
   ]
  },
  {
   "cell_type": "code",
   "execution_count": null,
   "metadata": {},
   "outputs": [],
   "source": [
    "complete_df.apply(cur.e)"
   ]
  },
  {
   "cell_type": "code",
   "execution_count": null,
   "metadata": {},
   "outputs": [],
   "source": [
    "cur.executemany(postgres_insert_query, clean_aus_df)"
   ]
  },
  {
   "cell_type": "code",
   "execution_count": null,
   "metadata": {},
   "outputs": [],
   "source": [
    "conn.commit()"
   ]
  },
  {
   "cell_type": "code",
   "execution_count": null,
   "metadata": {},
   "outputs": [],
   "source": []
  },
  {
   "cell_type": "code",
   "execution_count": null,
   "metadata": {},
   "outputs": [],
   "source": [
    "conn = pg2.connect(dbname='aushomes', host='localhost', password='nomadtomas', user='nomadtomas')"
   ]
  },
  {
   "cell_type": "code",
   "execution_count": null,
   "metadata": {},
   "outputs": [],
   "source": [
    "postgres_insert_query = \"\"\" INSERT INTO austin_realty (\n",
    "    id,subdiv, data_type, status,status_extra,photo,time,mls_id,\n",
    "    city,state,baths,sq_ft,acres,beds,zip,cost) \n",
    "    VALUES (%s,%s,%s,%s,%s,%s,%s,%s,%s,%s,%s,%s,%s,%s,%s,%s)\"\"\""
   ]
  },
  {
   "cell_type": "code",
   "execution_count": null,
   "metadata": {},
   "outputs": [],
   "source": [
    "complete_df"
   ]
  },
  {
   "cell_type": "code",
   "execution_count": null,
   "metadata": {},
   "outputs": [],
   "source": [
    "client = pymongo.MongoClient()\n",
    "db = client.realtor\n",
    "collection = db.aus_realty_data"
   ]
  },
  {
   "cell_type": "code",
   "execution_count": null,
   "metadata": {},
   "outputs": [],
   "source": [
    "def transform_data(row):\n",
    "    data = row.to_dict()\n",
    "    collection.insert_one(data)"
   ]
  },
  {
   "cell_type": "code",
   "execution_count": null,
   "metadata": {},
   "outputs": [],
   "source": [
    "complete_df.apply(transform_data, axis=1)"
   ]
  },
  {
   "cell_type": "code",
   "execution_count": null,
   "metadata": {},
   "outputs": [],
   "source": [
    "cur.close()"
   ]
  },
  {
   "cell_type": "code",
   "execution_count": null,
   "metadata": {},
   "outputs": [],
   "source": [
    "conn.close()"
   ]
  },
  {
   "cell_type": "code",
   "execution_count": null,
   "metadata": {},
   "outputs": [],
   "source": []
  }
 ],
 "metadata": {
  "kernelspec": {
   "display_name": "Python 3",
   "language": "python",
   "name": "python3"
  },
  "language_info": {
   "codemirror_mode": {
    "name": "ipython",
    "version": 3
   },
   "file_extension": ".py",
   "mimetype": "text/x-python",
   "name": "python",
   "nbconvert_exporter": "python",
   "pygments_lexer": "ipython3",
   "version": "3.7.4"
  }
 },
 "nbformat": 4,
 "nbformat_minor": 2
}
